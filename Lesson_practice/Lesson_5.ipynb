{
  "nbformat": 4,
  "nbformat_minor": 0,
  "metadata": {
    "colab": {
      "provenance": []
    },
    "kernelspec": {
      "name": "python3",
      "display_name": "Python 3"
    },
    "language_info": {
      "name": "python"
    }
  },
  "cells": [
    {
      "cell_type": "markdown",
      "source": [
        "##Please ensure you create a copy and rename your file correctly to avoid confusion during submission. Always double-check that your work is saved before exiting the notebook.\"\n",
        "\n",
        "\n",
        "\n"
      ],
      "metadata": {
        "id": "fgwMF4_xD3Zn"
      }
    },
    {
      "cell_type": "markdown",
      "source": [
        "##The code cell below contains all functions.\n",
        "Press play to run the functions below before you move to the next cell.\n",
        "\n",
        "\n",
        "\n"
      ],
      "metadata": {
        "id": "keEejhNkCPSm"
      }
    },
    {
      "cell_type": "code",
      "execution_count": 8,
      "metadata": {
        "id": "Mx9BdgKv3ZK8"
      },
      "outputs": [],
      "source": [
        "class MyFunctionAsSet:\n",
        "    def __init__(self, givenSet):\n",
        "        self.data = givenSet\n",
        "    def __call__(self, input):\n",
        "        image = {y for (x, y) in self.data if x == input}\n",
        "        if len(image) == 1:\n",
        "            for x in image: output = x\n",
        "        else: output = None\n",
        "        return output\n"
      ]
    },
    {
      "cell_type": "markdown",
      "source": [
        "##The code cell below contains all the data and variables\n",
        "Press play to run all the data and variables\n",
        "\n",
        "\n",
        "\n"
      ],
      "metadata": {
        "id": "SS9tgJ8oCvzz"
      }
    },
    {
      "cell_type": "code",
      "source": [
        "viewsOf = {(\"Never Be the Same\", 274309123), (\"Havana\", 1948873479), (\"Love You Like A Love Song\", 703515407),(\"Come & Get It\", 782421940)}\n",
        "\n",
        "viewsOf = MyFunctionAsSet(viewsOf)"
      ],
      "metadata": {
        "id": "8imUjdN93pHW"
      },
      "execution_count": 10,
      "outputs": []
    },
    {
      "cell_type": "markdown",
      "source": [
        "##Type your answer and solution for Question 29 in the cell below\n",
        "\n",
        "\n"
      ],
      "metadata": {
        "id": "6qt4aGAYC0EI"
      }
    },
    {
      "cell_type": "code",
      "source": [],
      "metadata": {
        "id": "DP-kVHQO4Hgd"
      },
      "execution_count": null,
      "outputs": []
    },
    {
      "cell_type": "code",
      "source": [
        "# viewsOf(\"Come & Get It\")"
      ],
      "metadata": {
        "colab": {
          "base_uri": "https://localhost:8080/"
        },
        "id": "bvIHpCxd3tr_",
        "outputId": "5f1d811c-0f4f-4b48-e806-f31b8af1cfb4"
      },
      "execution_count": null,
      "outputs": [
        {
          "output_type": "execute_result",
          "data": {
            "text/plain": [
              "782421940"
            ]
          },
          "metadata": {},
          "execution_count": 7
        }
      ]
    }
  ]
}