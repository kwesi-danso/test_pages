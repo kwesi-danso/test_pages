{
 "cells": [
  {
   "cell_type": "code",
   "execution_count": 6,
   "id": "cdab00e4",
   "metadata": {},
   "outputs": [],
   "source": [
    "# Stored data: Roller Coaster Table\n",
    "roller_coaster_data = {\n",
    "    \"States\": [\"California\", \"Texas\", \"Florida\", \"Florida\", \"Connecticut\", \"Florida\", \"Florida\"],\n",
    "    \"Coaster Name\": [\"GhostRider\", \"Rattler\", \"Starliner\", \"Kraken\", \"Wildcat\", \"Kumba\", \"Incredible Hulk\"],\n",
    "    \"Max Height(ft)\": [118, 180, 70, 149, 85, 143, 110],\n",
    "    \"Top Speed(mph)\": [56, 65, 55, 65, 48, 60, 66],\n",
    "}\n"
   ]
  },
  {
   "cell_type": "code",
   "execution_count": 10,
   "id": "fb3f7063",
   "metadata": {},
   "outputs": [
    {
     "name": "stdout",
     "output_type": "stream",
     "text": [
      "Mean of Max Height(ft): 122.14285714285714\n"
     ]
    }
   ],
   "source": [
    "# Importing necessary library\n",
    "import numpy as np\n",
    "\n",
    "# Task 1: Calculate the mean for \"Max Height(ft)\" and \"Top Speed(mph)\"\n",
    "max_height_mean = np.mean(roller_coaster_data[\"Max Height(ft)\"])\n",
    "# top_speed_mean = np.mean(roller_coaster_data[\"Top Speed(mph)\"])\n",
    "\n",
    "print(\"Mean of Max Height(ft):\", max_height_mean)\n",
    "# print(\"Mean of Top Speed(mph):\", top_speed_mean)\n",
    "\n",
    "\n"
   ]
  },
  {
   "cell_type": "code",
   "execution_count": 11,
   "id": "057b8bea",
   "metadata": {},
   "outputs": [
    {
     "name": "stdout",
     "output_type": "stream",
     "text": [
      "Variance of Max Height(ft): 1252.4081632653063\n"
     ]
    }
   ],
   "source": [
    "# Task 2: Calculate the variance for \"Max Height(ft)\" and \"Top Speed(mph)\"\n",
    "max_height_variance = np.var(roller_coaster_data[\"Max Height(ft)\"])\n",
    "top_speed_variance = np.var(roller_coaster_data[\"Top Speed(mph)\"])\n",
    "\n",
    "print(\"Variance of Max Height(ft):\", max_height_variance)\n",
    "# print(\"Variance of Top Speed(mph):\", top_speed_variance)"
   ]
  },
  {
   "cell_type": "code",
   "execution_count": null,
   "id": "14aca908",
   "metadata": {},
   "outputs": [],
   "source": []
  }
 ],
 "metadata": {
  "kernelspec": {
   "display_name": "Python 3 (ipykernel)",
   "language": "python",
   "name": "python3"
  },
  "language_info": {
   "codemirror_mode": {
    "name": "ipython",
    "version": 3
   },
   "file_extension": ".py",
   "mimetype": "text/x-python",
   "name": "python",
   "nbconvert_exporter": "python",
   "pygments_lexer": "ipython3",
   "version": "3.11.4"
  }
 },
 "nbformat": 4,
 "nbformat_minor": 5
}
